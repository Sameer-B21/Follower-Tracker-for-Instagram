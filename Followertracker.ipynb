{
  "cells": [
    {
      "cell_type": "markdown",
      "metadata": {
        "id": "view-in-github",
        "colab_type": "text"
      },
      "source": [
        "<a href=\"https://colab.research.google.com/github/Sameer-B21/Follower-Tracker-for-Instagram/blob/main/Followertracker.ipynb\" target=\"_parent\"><img src=\"https://colab.research.google.com/assets/colab-badge.svg\" alt=\"Open In Colab\"/></a>"
      ]
    },
    {
      "cell_type": "code",
      "execution_count": null,
      "metadata": {
        "id": "44Hx0bzJ2f4q"
      },
      "outputs": [],
      "source": [
        "pip install instaloader"
      ]
    },
    {
      "cell_type": "code",
      "execution_count": null,
      "metadata": {
        "id": "jaQ0dwbT2wmY"
      },
      "outputs": [],
      "source": [
        "from instaloader import instaloader, Profile"
      ]
    },
    {
      "cell_type": "code",
      "execution_count": null,
      "metadata": {
        "id": "suBviM0QIFUh"
      },
      "outputs": [],
      "source": [
        "# Create an instance of Instaloader\n",
        "L = instaloader.Instaloader()\n",
        "#enter your username and password\n",
        "try:\n",
        "  L.login(\"username\", \"password\")\n",
        "except:#enter your two-factor authentication code if applicable\n",
        "  L.two_factor_login()"
      ]
    },
    {
      "cell_type": "code",
      "execution_count": null,
      "metadata": {
        "id": "7jfQ_nXoCc0r"
      },
      "outputs": [],
      "source": [
        "# Get the profile of the account you want to check (Must be following the account if its private.)\n",
        "profile = instaloader.Profile.from_username(L.context, \"\")"
      ]
    },
    {
      "cell_type": "code",
      "execution_count": null,
      "metadata": {
        "colab": {
          "background_save": true
        },
        "id": "cPPNzvw521b_"
      },
      "outputs": [],
      "source": [
        "# Retrieve the followings\n",
        "followees = profile.get_followees()\n",
        "y = []\n",
        "# save the list\n",
        "for f in followees:\n",
        "  y.append(str(f.username))"
      ]
    },
    {
      "cell_type": "code",
      "execution_count": null,
      "metadata": {
        "colab": {
          "background_save": true
        },
        "id": "QAAw1rjyFrMD"
      },
      "outputs": [],
      "source": [
        "# Retreive the followers\n",
        "followers = profile.get_followers()\n",
        "x = []\n",
        "for follower in followers:\n",
        "  x.append(str(follower.username))"
      ]
    },
    {
      "cell_type": "code",
      "execution_count": null,
      "metadata": {
        "colab": {
          "background_save": true
        },
        "id": "LS6dmzTEG9yT"
      },
      "outputs": [],
      "source": [
        "a = 0\n",
        "print(\"The people that do not follow you back are: \")\n",
        "#check for people that don't follow back\n",
        "for n in y:\n",
        "  if n not in x:\n",
        "    print(n)\n",
        "    a+=1\n",
        "print (f\"You follow {a} people that do not follow you back.\")"
      ]
    }
  ],
  "metadata": {
    "colab": {
      "provenance": [],
      "authorship_tag": "ABX9TyOQK+AdYH6yXc3qcJeX+aL0",
      "include_colab_link": true
    },
    "kernelspec": {
      "display_name": "Python 3",
      "name": "python3"
    },
    "language_info": {
      "name": "python"
    }
  },
  "nbformat": 4,
  "nbformat_minor": 0
}